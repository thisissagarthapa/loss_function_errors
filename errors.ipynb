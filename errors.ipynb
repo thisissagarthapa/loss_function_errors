{
 "cells": [
  {
   "cell_type": "code",
   "execution_count": 3,
   "metadata": {},
   "outputs": [],
   "source": [
    "import numpy as np\n",
    "import matplotlib.pyplot as plt\n",
    "import seaborn as sns\n"
   ]
  },
  {
   "cell_type": "markdown",
   "metadata": {},
   "source": [
    "## Errors"
   ]
  },
  {
   "cell_type": "markdown",
   "metadata": {},
   "source": [
    "## Mean Absolute Errors"
   ]
  },
  {
   "cell_type": "code",
   "execution_count": 8,
   "metadata": {},
   "outputs": [
    {
     "name": "stdout",
     "output_type": "stream",
     "text": [
      "4 5\n",
      "5 2\n",
      "8 9\n"
     ]
    },
    {
     "data": {
      "text/plain": [
       "np.float64(1.6666666666666667)"
      ]
     },
     "execution_count": 8,
     "metadata": {},
     "output_type": "execute_result"
    }
   ],
   "source": [
    "y_true=np.array([4,5,8])\n",
    "y_prd=np.array([5,2,9])\n",
    "def MAE(y_true,y_prd):\n",
    "    for true,prd in zip(y_true,y_prd):\n",
    "        print(true,prd)\n",
    "    return np.mean(np.abs(y_true-y_prd))\n",
    "MAE(y_true,y_prd)"
   ]
  },
  {
   "cell_type": "markdown",
   "metadata": {},
   "source": [
    "## Mean Squarred Error "
   ]
  },
  {
   "cell_type": "code",
   "execution_count": 9,
   "metadata": {},
   "outputs": [
    {
     "name": "stdout",
     "output_type": "stream",
     "text": [
      "4 5\n",
      "5 2\n",
      "8 9\n"
     ]
    },
    {
     "data": {
      "text/plain": [
       "np.float64(3.6666666666666665)"
      ]
     },
     "execution_count": 9,
     "metadata": {},
     "output_type": "execute_result"
    }
   ],
   "source": [
    "y_true=np.array([4,5,8])\n",
    "y_prd=np.array([5,2,9])\n",
    "def MSE(y_true,y_prd):\n",
    "    for true,prd in zip(y_true,y_prd):\n",
    "        print(true,prd)\n",
    "    return np.mean(np.square(y_true-y_prd))\n",
    "MSE(y_true,y_prd)"
   ]
  },
  {
   "cell_type": "code",
   "execution_count": 11,
   "metadata": {},
   "outputs": [
    {
     "data": {
      "text/plain": [
       "array([[120,  40,  67],\n",
       "       [120,  40,  64],\n",
       "       [186,  50, 101]])"
      ]
     },
     "execution_count": 11,
     "metadata": {},
     "output_type": "execute_result"
    }
   ],
   "source": [
    "matrix_1=np.array([[1,5,8],[2,4,8],[3,9,10]])\n",
    "matrix_2=np.array([[8,0,2],[8,0,5],[9,5,5]])\n",
    "result=np.dot(matrix_1,matrix_2)\n",
    "result"
   ]
  },
  {
   "cell_type": "markdown",
   "metadata": {},
   "source": [
    "## log loss or binarycrossentropy"
   ]
  },
  {
   "cell_type": "code",
   "execution_count": 34,
   "metadata": {},
   "outputs": [
    {
     "name": "stderr",
     "output_type": "stream",
     "text": [
      "C:\\Users\\HP\\AppData\\Local\\Temp\\ipykernel_10368\\1126360463.py:8: RuntimeWarning: divide by zero encountered in log\n",
      "  errors=-np.mean(true*np.log(prd)+(1-prd)*np.log(1-prd))\n",
      "C:\\Users\\HP\\AppData\\Local\\Temp\\ipykernel_10368\\1126360463.py:8: RuntimeWarning: invalid value encountered in multiply\n",
      "  errors=-np.mean(true*np.log(prd)+(1-prd)*np.log(1-prd))\n"
     ]
    },
    {
     "data": {
      "text/plain": [
       "np.float64(nan)"
      ]
     },
     "execution_count": 34,
     "metadata": {},
     "output_type": "execute_result"
    }
   ],
   "source": [
    "y_true=np.array([1,0,1])\n",
    "y_prd=np.array([1,0,0])\n",
    "epsilon=1e-15\n",
    "def log_loss(true,prd):\n",
    "    y_predicted_new=[max(i,epsilon) for i in prd]\n",
    "    y_predicted_new=[min(i,1-epsilon) for i in y_predicted_new]\n",
    "    y_predicted_new=np.array(y_predicted_new)\n",
    "    errors=-np.mean(true*np.log(prd)+(1-prd)*np.log(1-prd))\n",
    "    return errors\n",
    "log_loss(y_true,y_prd)"
   ]
  },
  {
   "cell_type": "code",
   "execution_count": null,
   "metadata": {},
   "outputs": [],
   "source": []
  }
 ],
 "metadata": {
  "kernelspec": {
   "display_name": "Python 3",
   "language": "python",
   "name": "python3"
  },
  "language_info": {
   "codemirror_mode": {
    "name": "ipython",
    "version": 3
   },
   "file_extension": ".py",
   "mimetype": "text/x-python",
   "name": "python",
   "nbconvert_exporter": "python",
   "pygments_lexer": "ipython3",
   "version": "3.12.5"
  }
 },
 "nbformat": 4,
 "nbformat_minor": 2
}
